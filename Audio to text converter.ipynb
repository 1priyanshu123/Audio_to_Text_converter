{
 "cells": [
  {
   "cell_type": "code",
   "execution_count": 1,
   "id": "0fa9e9c6",
   "metadata": {
    "scrolled": true
   },
   "outputs": [
    {
     "name": "stdout",
     "output_type": "stream",
     "text": [
      "Listening...\n",
      "Processing...\n",
      "Converted Text: hello I call you how are you I am your boss please write this in English in Hindi\n"
     ]
    }
   ],
   "source": [
    "import speech_recognition as sr\n",
    "import pyttsx3\n",
    "\n",
    "def speak(text, engine):\n",
    "    engine.say(text)\n",
    "    engine.runAndWait()\n",
    "\n",
    "def audio_to_text_live():\n",
    "    recognizer = sr.Recognizer()\n",
    "    engine = pyttsx3.init()\n",
    "\n",
    "    # Initial message\n",
    "    speak(\"Welcome to Priyanshu's AI. My name is Convo. Please speak.\", engine)\n",
    "\n",
    "    while True:\n",
    "        with sr.Microphone() as source:\n",
    "            print(\"Listening...\")\n",
    "            audio = recognizer.listen(source)\n",
    "\n",
    "        try:\n",
    "            print(\"Processing...\")\n",
    "            text = recognizer.recognize_google(audio)\n",
    "            print(\"Converted Text:\", text)\n",
    "            return text\n",
    "        except sr.UnknownValueError:\n",
    "            print(\"Could not understand audio\")\n",
    "        except sr.RequestError as e:\n",
    "            print(f\"Error connecting to Google Web Speech API: {e}\")\n",
    "\n",
    "if __name__ == \"__main__\":\n",
    "    audio_to_text_live()\n"
   ]
  },
  {
   "cell_type": "code",
   "execution_count": null,
   "id": "58a47f7b",
   "metadata": {
    "scrolled": true
   },
   "outputs": [],
   "source": []
  },
  {
   "cell_type": "code",
   "execution_count": null,
   "id": "2804a9de",
   "metadata": {},
   "outputs": [],
   "source": []
  },
  {
   "cell_type": "code",
   "execution_count": null,
   "id": "1af0860c",
   "metadata": {},
   "outputs": [],
   "source": []
  },
  {
   "cell_type": "code",
   "execution_count": null,
   "id": "acce6c17",
   "metadata": {
    "scrolled": true
   },
   "outputs": [],
   "source": []
  },
  {
   "cell_type": "code",
   "execution_count": null,
   "id": "b9acf142",
   "metadata": {},
   "outputs": [],
   "source": []
  },
  {
   "cell_type": "code",
   "execution_count": null,
   "id": "388d5bd3",
   "metadata": {},
   "outputs": [],
   "source": []
  }
 ],
 "metadata": {
  "kernelspec": {
   "display_name": "Python 3 (ipykernel)",
   "language": "python",
   "name": "python3"
  },
  "language_info": {
   "codemirror_mode": {
    "name": "ipython",
    "version": 3
   },
   "file_extension": ".py",
   "mimetype": "text/x-python",
   "name": "python",
   "nbconvert_exporter": "python",
   "pygments_lexer": "ipython3",
   "version": "3.9.12"
  }
 },
 "nbformat": 4,
 "nbformat_minor": 5
}
